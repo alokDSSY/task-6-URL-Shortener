{
 "cells": [
  {
   "cell_type": "code",
   "execution_count": 1,
   "id": "55715610",
   "metadata": {},
   "outputs": [],
   "source": [
    "import pyshorteners"
   ]
  },
  {
   "cell_type": "code",
   "execution_count": 3,
   "id": "46665860",
   "metadata": {},
   "outputs": [
    {
     "name": "stdout",
     "output_type": "stream",
     "text": [
      "Enter the URL: https://www.flipkart.com/search?q=phone+5g&sid=tyy%2C4io&as=on&as-show=on&otracker=AS_QueryStore_OrganicAutoSuggest_1_3_na_na_na&otracker1=AS_QueryStore_OrganicAutoSuggest_1_3_na_na_na&as-pos=1&as-type=RECENT&suggestionId=phone+5g%7CMobiles&requestId=75e1e7c0-ba43-42e2-8dcb-f077ca0eb3ad&as-searchtext=pho&page=2\n",
      "https://tinyurl.com/26osavnu\n"
     ]
    }
   ],
   "source": [
    "import pyshorteners\n",
    "\n",
    "url = input(\"Enter the URL: \")\n",
    "\n",
    "def shortenurl(url):\n",
    "    s = pyshorteners.Shortener()\n",
    "    print(s.tinyurl.short(url))\n",
    "\n",
    "shortenurl(url)\n"
   ]
  },
  {
   "cell_type": "code",
   "execution_count": null,
   "id": "47a18369",
   "metadata": {},
   "outputs": [],
   "source": []
  }
 ],
 "metadata": {
  "kernelspec": {
   "display_name": "Python 3 (ipykernel)",
   "language": "python",
   "name": "python3"
  },
  "language_info": {
   "codemirror_mode": {
    "name": "ipython",
    "version": 3
   },
   "file_extension": ".py",
   "mimetype": "text/x-python",
   "name": "python",
   "nbconvert_exporter": "python",
   "pygments_lexer": "ipython3",
   "version": "3.9.12"
  }
 },
 "nbformat": 4,
 "nbformat_minor": 5
}
